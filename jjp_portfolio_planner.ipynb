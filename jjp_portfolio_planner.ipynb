{
 "cells": [
  {
   "cell_type": "code",
   "execution_count": 1,
   "metadata": {},
   "outputs": [],
   "source": [
    "import numpy as np\n",
    "import pandas as pd\n",
    "from datetime import datetime, timedelta\n",
    "import matplotlib.pyplot as plt\n",
    "%matplotlib inline"
   ]
  },
  {
   "cell_type": "code",
   "execution_count": 2,
   "metadata": {},
   "outputs": [],
   "source": [
    "np.random.seed(42)"
   ]
  },
  {
   "cell_type": "markdown",
   "metadata": {},
   "source": [
    "# Portfolio Planner\n",
    "\n",
    "In this activity, you will use the iexfinance api to grab historical data for a 60/40 portfolio using `SPY` to represent the stock portion and `AGG` to represent the bonds."
   ]
  },
  {
   "cell_type": "code",
   "execution_count": 3,
   "metadata": {},
   "outputs": [],
   "source": [
    "from iexfinance.stocks import get_historical_data\n",
    "import iexfinance as iex\n",
    "from iexfinance.refdata import get_symbols"
   ]
  },
  {
   "cell_type": "markdown",
   "metadata": {},
   "source": [
    "# Data Collection\n",
    "\n",
    "In this step, you will need to use the IEX api to fetch closing prices for the `SPY` and `AGG` tickers. Save the results as a pandas DataFrame"
   ]
  },
  {
   "cell_type": "code",
   "execution_count": 6,
   "metadata": {},
   "outputs": [
    {
     "data": {
      "text/html": [
       "<div>\n",
       "<style scoped>\n",
       "    .dataframe tbody tr th:only-of-type {\n",
       "        vertical-align: middle;\n",
       "    }\n",
       "\n",
       "    .dataframe tbody tr th {\n",
       "        vertical-align: top;\n",
       "    }\n",
       "\n",
       "    .dataframe thead tr th {\n",
       "        text-align: left;\n",
       "    }\n",
       "\n",
       "    .dataframe thead tr:last-of-type th {\n",
       "        text-align: right;\n",
       "    }\n",
       "</style>\n",
       "<table border=\"1\" class=\"dataframe\">\n",
       "  <thead>\n",
       "    <tr>\n",
       "      <th></th>\n",
       "      <th colspan=\"5\" halign=\"left\">SPY</th>\n",
       "      <th colspan=\"5\" halign=\"left\">AGG</th>\n",
       "    </tr>\n",
       "    <tr>\n",
       "      <th></th>\n",
       "      <th>open</th>\n",
       "      <th>high</th>\n",
       "      <th>low</th>\n",
       "      <th>close</th>\n",
       "      <th>volume</th>\n",
       "      <th>open</th>\n",
       "      <th>high</th>\n",
       "      <th>low</th>\n",
       "      <th>close</th>\n",
       "      <th>volume</th>\n",
       "    </tr>\n",
       "    <tr>\n",
       "      <th>date</th>\n",
       "      <th></th>\n",
       "      <th></th>\n",
       "      <th></th>\n",
       "      <th></th>\n",
       "      <th></th>\n",
       "      <th></th>\n",
       "      <th></th>\n",
       "      <th></th>\n",
       "      <th></th>\n",
       "      <th></th>\n",
       "    </tr>\n",
       "  </thead>\n",
       "  <tbody>\n",
       "    <tr>\n",
       "      <td>2019-01-22</td>\n",
       "      <td>264.82</td>\n",
       "      <td>265.06</td>\n",
       "      <td>261.06</td>\n",
       "      <td>262.86</td>\n",
       "      <td>115531183</td>\n",
       "      <td>106.44</td>\n",
       "      <td>106.62</td>\n",
       "      <td>106.44</td>\n",
       "      <td>106.44</td>\n",
       "      <td>6823956</td>\n",
       "    </tr>\n",
       "    <tr>\n",
       "      <td>2019-01-23</td>\n",
       "      <td>264.01</td>\n",
       "      <td>264.79</td>\n",
       "      <td>260.66</td>\n",
       "      <td>263.41</td>\n",
       "      <td>86030287</td>\n",
       "      <td>106.38</td>\n",
       "      <td>106.59</td>\n",
       "      <td>106.37</td>\n",
       "      <td>106.55</td>\n",
       "      <td>3222846</td>\n",
       "    </tr>\n",
       "    <tr>\n",
       "      <td>2019-01-24</td>\n",
       "      <td>263.21</td>\n",
       "      <td>264.20</td>\n",
       "      <td>262.08</td>\n",
       "      <td>263.55</td>\n",
       "      <td>59204139</td>\n",
       "      <td>106.72</td>\n",
       "      <td>106.84</td>\n",
       "      <td>106.67</td>\n",
       "      <td>106.73</td>\n",
       "      <td>7308898</td>\n",
       "    </tr>\n",
       "    <tr>\n",
       "      <td>2019-01-25</td>\n",
       "      <td>265.61</td>\n",
       "      <td>266.70</td>\n",
       "      <td>263.66</td>\n",
       "      <td>265.78</td>\n",
       "      <td>96883358</td>\n",
       "      <td>106.64</td>\n",
       "      <td>106.70</td>\n",
       "      <td>106.56</td>\n",
       "      <td>106.68</td>\n",
       "      <td>3469453</td>\n",
       "    </tr>\n",
       "    <tr>\n",
       "      <td>2019-01-28</td>\n",
       "      <td>263.39</td>\n",
       "      <td>263.83</td>\n",
       "      <td>261.79</td>\n",
       "      <td>263.76</td>\n",
       "      <td>85613655</td>\n",
       "      <td>106.62</td>\n",
       "      <td>106.75</td>\n",
       "      <td>106.58</td>\n",
       "      <td>106.62</td>\n",
       "      <td>7365747</td>\n",
       "    </tr>\n",
       "  </tbody>\n",
       "</table>\n",
       "</div>"
      ],
      "text/plain": [
       "               SPY                                        AGG                  \\\n",
       "              open    high     low   close     volume    open    high     low   \n",
       "date                                                                            \n",
       "2019-01-22  264.82  265.06  261.06  262.86  115531183  106.44  106.62  106.44   \n",
       "2019-01-23  264.01  264.79  260.66  263.41   86030287  106.38  106.59  106.37   \n",
       "2019-01-24  263.21  264.20  262.08  263.55   59204139  106.72  106.84  106.67   \n",
       "2019-01-25  265.61  266.70  263.66  265.78   96883358  106.64  106.70  106.56   \n",
       "2019-01-28  263.39  263.83  261.79  263.76   85613655  106.62  106.75  106.58   \n",
       "\n",
       "                             \n",
       "             close   volume  \n",
       "date                         \n",
       "2019-01-22  106.44  6823956  \n",
       "2019-01-23  106.55  3222846  \n",
       "2019-01-24  106.73  7308898  \n",
       "2019-01-25  106.68  3469453  \n",
       "2019-01-28  106.62  7365747  "
      ]
     },
     "execution_count": 6,
     "metadata": {},
     "output_type": "execute_result"
    }
   ],
   "source": [
    "list_of_tickers = [\"SPY\", \"AGG\"]\n",
    "# YOUR CODE HERE\n",
    "end_date = datetime.now()\n",
    "start_date = end_date + timedelta(-365)\n",
    "\n",
    "df_port = get_historical_data(list_of_tickers, start_date, end_date, output_format='pandas')\n",
    "df_port.head()"
   ]
  },
  {
   "cell_type": "code",
   "execution_count": 9,
   "metadata": {},
   "outputs": [],
   "source": [
    "df_port.drop(columns=['open','high','low','volume'], level=1, inplace=True)"
   ]
  },
  {
   "cell_type": "code",
   "execution_count": 16,
   "metadata": {},
   "outputs": [
    {
     "data": {
      "text/html": [
       "<div>\n",
       "<style scoped>\n",
       "    .dataframe tbody tr th:only-of-type {\n",
       "        vertical-align: middle;\n",
       "    }\n",
       "\n",
       "    .dataframe tbody tr th {\n",
       "        vertical-align: top;\n",
       "    }\n",
       "\n",
       "    .dataframe thead tr th {\n",
       "        text-align: left;\n",
       "    }\n",
       "\n",
       "    .dataframe thead tr:last-of-type th {\n",
       "        text-align: right;\n",
       "    }\n",
       "</style>\n",
       "<table border=\"1\" class=\"dataframe\">\n",
       "  <thead>\n",
       "    <tr>\n",
       "      <th></th>\n",
       "      <th>SPY</th>\n",
       "      <th>AGG</th>\n",
       "    </tr>\n",
       "    <tr>\n",
       "      <th></th>\n",
       "      <th>close</th>\n",
       "      <th>close</th>\n",
       "    </tr>\n",
       "    <tr>\n",
       "      <th>date</th>\n",
       "      <th></th>\n",
       "      <th></th>\n",
       "    </tr>\n",
       "  </thead>\n",
       "  <tbody>\n",
       "    <tr>\n",
       "      <td>2019-01-22</td>\n",
       "      <td>262.86</td>\n",
       "      <td>106.44</td>\n",
       "    </tr>\n",
       "    <tr>\n",
       "      <td>2019-01-23</td>\n",
       "      <td>263.41</td>\n",
       "      <td>106.55</td>\n",
       "    </tr>\n",
       "    <tr>\n",
       "      <td>2019-01-24</td>\n",
       "      <td>263.55</td>\n",
       "      <td>106.73</td>\n",
       "    </tr>\n",
       "    <tr>\n",
       "      <td>2019-01-25</td>\n",
       "      <td>265.78</td>\n",
       "      <td>106.68</td>\n",
       "    </tr>\n",
       "    <tr>\n",
       "      <td>2019-01-28</td>\n",
       "      <td>263.76</td>\n",
       "      <td>106.62</td>\n",
       "    </tr>\n",
       "    <tr>\n",
       "      <td>...</td>\n",
       "      <td>...</td>\n",
       "      <td>...</td>\n",
       "    </tr>\n",
       "    <tr>\n",
       "      <td>2020-01-13</td>\n",
       "      <td>327.95</td>\n",
       "      <td>112.91</td>\n",
       "    </tr>\n",
       "    <tr>\n",
       "      <td>2020-01-14</td>\n",
       "      <td>327.45</td>\n",
       "      <td>113.01</td>\n",
       "    </tr>\n",
       "    <tr>\n",
       "      <td>2020-01-15</td>\n",
       "      <td>328.19</td>\n",
       "      <td>113.18</td>\n",
       "    </tr>\n",
       "    <tr>\n",
       "      <td>2020-01-16</td>\n",
       "      <td>330.92</td>\n",
       "      <td>113.18</td>\n",
       "    </tr>\n",
       "    <tr>\n",
       "      <td>2020-01-17</td>\n",
       "      <td>331.95</td>\n",
       "      <td>113.05</td>\n",
       "    </tr>\n",
       "  </tbody>\n",
       "</table>\n",
       "<p>251 rows × 2 columns</p>\n",
       "</div>"
      ],
      "text/plain": [
       "               SPY     AGG\n",
       "             close   close\n",
       "date                      \n",
       "2019-01-22  262.86  106.44\n",
       "2019-01-23  263.41  106.55\n",
       "2019-01-24  263.55  106.73\n",
       "2019-01-25  265.78  106.68\n",
       "2019-01-28  263.76  106.62\n",
       "...            ...     ...\n",
       "2020-01-13  327.95  112.91\n",
       "2020-01-14  327.45  113.01\n",
       "2020-01-15  328.19  113.18\n",
       "2020-01-16  330.92  113.18\n",
       "2020-01-17  331.95  113.05\n",
       "\n",
       "[251 rows x 2 columns]"
      ]
     },
     "execution_count": 16,
     "metadata": {},
     "output_type": "execute_result"
    }
   ],
   "source": [
    "df_port"
   ]
  },
  {
   "cell_type": "markdown",
   "metadata": {},
   "source": [
    "# Monte Carlo Simulation\n",
    "\n",
    "In this step, you will run Monte Carlo Simulations for your portfolio to model portfolio performance at different retirement ages. \n",
    "\n",
    "Complete the following steps:\n",
    "1. Calculate the daily returns for the SPY and AGG closing prices.\n",
    "2. Calculate volatility for both the SPY and AGG closing prices.\n",
    "3. Find the last day's closing price for both stocks and save those as variables.\n",
    "4. Run a Monte Carlo Simulation of at least 500 iterations and generate at least 30 years of closing prices\n",
    "\n",
    "### HINTS:\n",
    "There are 252 trading days per year, so the number of records to generate for each Monte Carlo run will be 252 days * 30 years"
   ]
  },
  {
   "cell_type": "code",
   "execution_count": 18,
   "metadata": {},
   "outputs": [
    {
     "data": {
      "text/html": [
       "<div>\n",
       "<style scoped>\n",
       "    .dataframe tbody tr th:only-of-type {\n",
       "        vertical-align: middle;\n",
       "    }\n",
       "\n",
       "    .dataframe tbody tr th {\n",
       "        vertical-align: top;\n",
       "    }\n",
       "\n",
       "    .dataframe thead tr th {\n",
       "        text-align: left;\n",
       "    }\n",
       "\n",
       "    .dataframe thead tr:last-of-type th {\n",
       "        text-align: right;\n",
       "    }\n",
       "</style>\n",
       "<table border=\"1\" class=\"dataframe\">\n",
       "  <thead>\n",
       "    <tr>\n",
       "      <th></th>\n",
       "      <th>SPY</th>\n",
       "      <th>AGG</th>\n",
       "    </tr>\n",
       "    <tr>\n",
       "      <th></th>\n",
       "      <th>close</th>\n",
       "      <th>close</th>\n",
       "    </tr>\n",
       "    <tr>\n",
       "      <th>date</th>\n",
       "      <th></th>\n",
       "      <th></th>\n",
       "    </tr>\n",
       "  </thead>\n",
       "  <tbody>\n",
       "    <tr>\n",
       "      <td>2019-01-22</td>\n",
       "      <td>NaN</td>\n",
       "      <td>NaN</td>\n",
       "    </tr>\n",
       "    <tr>\n",
       "      <td>2019-01-23</td>\n",
       "      <td>0.002092</td>\n",
       "      <td>0.001033</td>\n",
       "    </tr>\n",
       "    <tr>\n",
       "      <td>2019-01-24</td>\n",
       "      <td>0.000531</td>\n",
       "      <td>0.001689</td>\n",
       "    </tr>\n",
       "    <tr>\n",
       "      <td>2019-01-25</td>\n",
       "      <td>0.008461</td>\n",
       "      <td>-0.000468</td>\n",
       "    </tr>\n",
       "    <tr>\n",
       "      <td>2019-01-28</td>\n",
       "      <td>-0.007600</td>\n",
       "      <td>-0.000562</td>\n",
       "    </tr>\n",
       "  </tbody>\n",
       "</table>\n",
       "</div>"
      ],
      "text/plain": [
       "                 SPY       AGG\n",
       "               close     close\n",
       "date                          \n",
       "2019-01-22       NaN       NaN\n",
       "2019-01-23  0.002092  0.001033\n",
       "2019-01-24  0.000531  0.001689\n",
       "2019-01-25  0.008461 -0.000468\n",
       "2019-01-28 -0.007600 -0.000562"
      ]
     },
     "execution_count": 18,
     "metadata": {},
     "output_type": "execute_result"
    }
   ],
   "source": [
    "# Calculate the daily roi for the stocks\n",
    "\n",
    "daily_returns = df_port.pct_change()\n",
    "daily_returns.head()"
   ]
  },
  {
   "cell_type": "code",
   "execution_count": 30,
   "metadata": {},
   "outputs": [
    {
     "data": {
      "text/plain": [
       "0.0009612642291769476"
      ]
     },
     "execution_count": 30,
     "metadata": {},
     "output_type": "execute_result"
    }
   ],
   "source": [
    "avg_daily_return_SPY = daily_returns.mean()['SPY']['close']\n",
    "avg_daily_return_SPY"
   ]
  },
  {
   "cell_type": "code",
   "execution_count": 31,
   "metadata": {},
   "outputs": [
    {
     "data": {
      "text/plain": [
       "0.00024318932345666555"
      ]
     },
     "execution_count": 31,
     "metadata": {},
     "output_type": "execute_result"
    }
   ],
   "source": [
    "avg_daily_return_AGG = daily_returns.mean()['AGG']['close']\n",
    "avg_daily_return_AGG"
   ]
  },
  {
   "cell_type": "code",
   "execution_count": 32,
   "metadata": {},
   "outputs": [
    {
     "data": {
      "text/plain": [
       "0.007401574798510325"
      ]
     },
     "execution_count": 32,
     "metadata": {},
     "output_type": "execute_result"
    }
   ],
   "source": [
    "# Calculate volatility\n",
    "# YOUR CODE HERE\n",
    "std_dev_daily_return_SPY = daily_returns.std()['SPY']['close']\n",
    "std_dev_daily_return_SPY"
   ]
  },
  {
   "cell_type": "code",
   "execution_count": 33,
   "metadata": {},
   "outputs": [
    {
     "data": {
      "text/plain": [
       "0.002084866830981002"
      ]
     },
     "execution_count": 33,
     "metadata": {},
     "output_type": "execute_result"
    }
   ],
   "source": [
    "std_dev_daily_return_AGG = daily_returns.std()['AGG']['close']\n",
    "std_dev_daily_return_AGG"
   ]
  },
  {
   "cell_type": "code",
   "execution_count": 34,
   "metadata": {},
   "outputs": [],
   "source": [
    "# Save the last day's closing price\n",
    "# YOUR CODE HERE\n",
    "last_day_SPY=df_port['SPY']['close'][-1]\n",
    "last_day_AGG=df_port['AGG']['close'][-1]"
   ]
  },
  {
   "cell_type": "code",
   "execution_count": 41,
   "metadata": {},
   "outputs": [],
   "source": [
    "# Setup the Monte Carlo Parameters\n",
    "number_simulations = 500\n",
    "number_records = 252 * 30\n",
    "simulated_price_df = pd.DataFrame()\n",
    "portfolio_cumulative_returns = pd.DataFrame()\n"
   ]
  },
  {
   "cell_type": "code",
   "execution_count": 42,
   "metadata": {},
   "outputs": [
    {
     "data": {
      "text/html": [
       "<div>\n",
       "<style scoped>\n",
       "    .dataframe tbody tr th:only-of-type {\n",
       "        vertical-align: middle;\n",
       "    }\n",
       "\n",
       "    .dataframe tbody tr th {\n",
       "        vertical-align: top;\n",
       "    }\n",
       "\n",
       "    .dataframe thead th {\n",
       "        text-align: right;\n",
       "    }\n",
       "</style>\n",
       "<table border=\"1\" class=\"dataframe\">\n",
       "  <thead>\n",
       "    <tr style=\"text-align: right;\">\n",
       "      <th></th>\n",
       "      <th>0</th>\n",
       "      <th>1</th>\n",
       "      <th>2</th>\n",
       "      <th>3</th>\n",
       "      <th>4</th>\n",
       "      <th>5</th>\n",
       "      <th>6</th>\n",
       "      <th>7</th>\n",
       "      <th>8</th>\n",
       "      <th>9</th>\n",
       "      <th>...</th>\n",
       "      <th>490</th>\n",
       "      <th>491</th>\n",
       "      <th>492</th>\n",
       "      <th>493</th>\n",
       "      <th>494</th>\n",
       "      <th>495</th>\n",
       "      <th>496</th>\n",
       "      <th>497</th>\n",
       "      <th>498</th>\n",
       "      <th>499</th>\n",
       "    </tr>\n",
       "  </thead>\n",
       "  <tbody>\n",
       "    <tr>\n",
       "      <td>0</td>\n",
       "      <td>1.000000</td>\n",
       "      <td>1.000000</td>\n",
       "      <td>1.000000</td>\n",
       "      <td>1.000000</td>\n",
       "      <td>1.000000</td>\n",
       "      <td>1.000000</td>\n",
       "      <td>1.000000</td>\n",
       "      <td>1.000000</td>\n",
       "      <td>1.000000</td>\n",
       "      <td>1.000000</td>\n",
       "      <td>...</td>\n",
       "      <td>1.000000</td>\n",
       "      <td>1.000000</td>\n",
       "      <td>1.000000</td>\n",
       "      <td>1.000000</td>\n",
       "      <td>1.000000</td>\n",
       "      <td>1.000000</td>\n",
       "      <td>1.000000</td>\n",
       "      <td>1.000000</td>\n",
       "      <td>1.000000</td>\n",
       "      <td>1.000000</td>\n",
       "    </tr>\n",
       "    <tr>\n",
       "      <td>1</td>\n",
       "      <td>0.994941</td>\n",
       "      <td>1.001613</td>\n",
       "      <td>1.002247</td>\n",
       "      <td>1.001520</td>\n",
       "      <td>0.993464</td>\n",
       "      <td>0.995628</td>\n",
       "      <td>1.008146</td>\n",
       "      <td>1.007650</td>\n",
       "      <td>0.993726</td>\n",
       "      <td>1.007882</td>\n",
       "      <td>...</td>\n",
       "      <td>1.005076</td>\n",
       "      <td>0.997936</td>\n",
       "      <td>0.999774</td>\n",
       "      <td>0.996816</td>\n",
       "      <td>1.005516</td>\n",
       "      <td>1.000216</td>\n",
       "      <td>0.996310</td>\n",
       "      <td>0.999220</td>\n",
       "      <td>1.002581</td>\n",
       "      <td>0.997321</td>\n",
       "    </tr>\n",
       "    <tr>\n",
       "      <td>2</td>\n",
       "      <td>0.995915</td>\n",
       "      <td>1.003000</td>\n",
       "      <td>0.996727</td>\n",
       "      <td>0.999300</td>\n",
       "      <td>0.993165</td>\n",
       "      <td>0.999441</td>\n",
       "      <td>1.000796</td>\n",
       "      <td>1.001833</td>\n",
       "      <td>0.987619</td>\n",
       "      <td>1.008830</td>\n",
       "      <td>...</td>\n",
       "      <td>1.006136</td>\n",
       "      <td>0.997984</td>\n",
       "      <td>1.007963</td>\n",
       "      <td>0.990284</td>\n",
       "      <td>1.004777</td>\n",
       "      <td>1.006433</td>\n",
       "      <td>1.000509</td>\n",
       "      <td>0.999316</td>\n",
       "      <td>1.005746</td>\n",
       "      <td>0.999154</td>\n",
       "    </tr>\n",
       "    <tr>\n",
       "      <td>3</td>\n",
       "      <td>0.992006</td>\n",
       "      <td>0.999078</td>\n",
       "      <td>1.000718</td>\n",
       "      <td>1.000956</td>\n",
       "      <td>0.991456</td>\n",
       "      <td>1.002272</td>\n",
       "      <td>1.003026</td>\n",
       "      <td>1.004349</td>\n",
       "      <td>0.981388</td>\n",
       "      <td>1.002083</td>\n",
       "      <td>...</td>\n",
       "      <td>1.009364</td>\n",
       "      <td>1.000487</td>\n",
       "      <td>1.005071</td>\n",
       "      <td>0.991715</td>\n",
       "      <td>1.003090</td>\n",
       "      <td>1.008850</td>\n",
       "      <td>0.999795</td>\n",
       "      <td>1.010427</td>\n",
       "      <td>1.005135</td>\n",
       "      <td>1.005661</td>\n",
       "    </tr>\n",
       "    <tr>\n",
       "      <td>4</td>\n",
       "      <td>0.983240</td>\n",
       "      <td>0.995344</td>\n",
       "      <td>0.999346</td>\n",
       "      <td>0.991609</td>\n",
       "      <td>0.995793</td>\n",
       "      <td>1.003419</td>\n",
       "      <td>1.000952</td>\n",
       "      <td>1.007298</td>\n",
       "      <td>0.978814</td>\n",
       "      <td>0.994319</td>\n",
       "      <td>...</td>\n",
       "      <td>1.016977</td>\n",
       "      <td>1.002570</td>\n",
       "      <td>1.000947</td>\n",
       "      <td>0.992480</td>\n",
       "      <td>1.015654</td>\n",
       "      <td>1.006044</td>\n",
       "      <td>1.002070</td>\n",
       "      <td>1.017087</td>\n",
       "      <td>1.011232</td>\n",
       "      <td>0.999097</td>\n",
       "    </tr>\n",
       "    <tr>\n",
       "      <td>...</td>\n",
       "      <td>...</td>\n",
       "      <td>...</td>\n",
       "      <td>...</td>\n",
       "      <td>...</td>\n",
       "      <td>...</td>\n",
       "      <td>...</td>\n",
       "      <td>...</td>\n",
       "      <td>...</td>\n",
       "      <td>...</td>\n",
       "      <td>...</td>\n",
       "      <td>...</td>\n",
       "      <td>...</td>\n",
       "      <td>...</td>\n",
       "      <td>...</td>\n",
       "      <td>...</td>\n",
       "      <td>...</td>\n",
       "      <td>...</td>\n",
       "      <td>...</td>\n",
       "      <td>...</td>\n",
       "      <td>...</td>\n",
       "      <td>...</td>\n",
       "    </tr>\n",
       "    <tr>\n",
       "      <td>7556</td>\n",
       "      <td>167.985197</td>\n",
       "      <td>191.374369</td>\n",
       "      <td>171.532344</td>\n",
       "      <td>200.323755</td>\n",
       "      <td>190.771593</td>\n",
       "      <td>111.855676</td>\n",
       "      <td>228.809399</td>\n",
       "      <td>123.549359</td>\n",
       "      <td>148.670547</td>\n",
       "      <td>268.043174</td>\n",
       "      <td>...</td>\n",
       "      <td>162.482395</td>\n",
       "      <td>133.058517</td>\n",
       "      <td>92.081574</td>\n",
       "      <td>73.423510</td>\n",
       "      <td>262.139972</td>\n",
       "      <td>203.449634</td>\n",
       "      <td>110.223669</td>\n",
       "      <td>150.951500</td>\n",
       "      <td>167.362738</td>\n",
       "      <td>236.875803</td>\n",
       "    </tr>\n",
       "    <tr>\n",
       "      <td>7557</td>\n",
       "      <td>168.441764</td>\n",
       "      <td>191.337287</td>\n",
       "      <td>170.020222</td>\n",
       "      <td>201.139240</td>\n",
       "      <td>190.684051</td>\n",
       "      <td>111.764652</td>\n",
       "      <td>229.805610</td>\n",
       "      <td>124.029303</td>\n",
       "      <td>148.183031</td>\n",
       "      <td>270.116381</td>\n",
       "      <td>...</td>\n",
       "      <td>163.664850</td>\n",
       "      <td>133.149668</td>\n",
       "      <td>91.966253</td>\n",
       "      <td>73.733485</td>\n",
       "      <td>261.641260</td>\n",
       "      <td>202.214198</td>\n",
       "      <td>109.864839</td>\n",
       "      <td>150.738968</td>\n",
       "      <td>167.329148</td>\n",
       "      <td>237.914759</td>\n",
       "    </tr>\n",
       "    <tr>\n",
       "      <td>7558</td>\n",
       "      <td>168.738578</td>\n",
       "      <td>191.441226</td>\n",
       "      <td>168.736890</td>\n",
       "      <td>199.592272</td>\n",
       "      <td>190.583875</td>\n",
       "      <td>111.639424</td>\n",
       "      <td>230.041059</td>\n",
       "      <td>124.157022</td>\n",
       "      <td>147.097201</td>\n",
       "      <td>270.295119</td>\n",
       "      <td>...</td>\n",
       "      <td>164.724101</td>\n",
       "      <td>133.648913</td>\n",
       "      <td>92.682747</td>\n",
       "      <td>73.796805</td>\n",
       "      <td>263.123795</td>\n",
       "      <td>202.542700</td>\n",
       "      <td>109.968071</td>\n",
       "      <td>150.186772</td>\n",
       "      <td>166.674483</td>\n",
       "      <td>239.305613</td>\n",
       "    </tr>\n",
       "    <tr>\n",
       "      <td>7559</td>\n",
       "      <td>169.777956</td>\n",
       "      <td>193.153960</td>\n",
       "      <td>168.696591</td>\n",
       "      <td>199.505032</td>\n",
       "      <td>191.736095</td>\n",
       "      <td>111.849423</td>\n",
       "      <td>229.311634</td>\n",
       "      <td>124.743471</td>\n",
       "      <td>147.665798</td>\n",
       "      <td>270.322280</td>\n",
       "      <td>...</td>\n",
       "      <td>165.492295</td>\n",
       "      <td>132.884357</td>\n",
       "      <td>92.795289</td>\n",
       "      <td>74.130802</td>\n",
       "      <td>263.168070</td>\n",
       "      <td>202.829837</td>\n",
       "      <td>110.887375</td>\n",
       "      <td>150.500004</td>\n",
       "      <td>167.090560</td>\n",
       "      <td>240.011029</td>\n",
       "    </tr>\n",
       "    <tr>\n",
       "      <td>7560</td>\n",
       "      <td>169.358259</td>\n",
       "      <td>192.919418</td>\n",
       "      <td>168.304695</td>\n",
       "      <td>200.216064</td>\n",
       "      <td>193.946650</td>\n",
       "      <td>112.161463</td>\n",
       "      <td>229.268620</td>\n",
       "      <td>125.165750</td>\n",
       "      <td>147.591421</td>\n",
       "      <td>269.176292</td>\n",
       "      <td>...</td>\n",
       "      <td>165.039779</td>\n",
       "      <td>132.458201</td>\n",
       "      <td>92.515496</td>\n",
       "      <td>73.954902</td>\n",
       "      <td>262.890702</td>\n",
       "      <td>201.502205</td>\n",
       "      <td>110.940147</td>\n",
       "      <td>149.768835</td>\n",
       "      <td>166.799661</td>\n",
       "      <td>239.560513</td>\n",
       "    </tr>\n",
       "  </tbody>\n",
       "</table>\n",
       "<p>7561 rows × 500 columns</p>\n",
       "</div>"
      ],
      "text/plain": [
       "             0           1           2           3           4           5    \\\n",
       "0       1.000000    1.000000    1.000000    1.000000    1.000000    1.000000   \n",
       "1       0.994941    1.001613    1.002247    1.001520    0.993464    0.995628   \n",
       "2       0.995915    1.003000    0.996727    0.999300    0.993165    0.999441   \n",
       "3       0.992006    0.999078    1.000718    1.000956    0.991456    1.002272   \n",
       "4       0.983240    0.995344    0.999346    0.991609    0.995793    1.003419   \n",
       "...          ...         ...         ...         ...         ...         ...   \n",
       "7556  167.985197  191.374369  171.532344  200.323755  190.771593  111.855676   \n",
       "7557  168.441764  191.337287  170.020222  201.139240  190.684051  111.764652   \n",
       "7558  168.738578  191.441226  168.736890  199.592272  190.583875  111.639424   \n",
       "7559  169.777956  193.153960  168.696591  199.505032  191.736095  111.849423   \n",
       "7560  169.358259  192.919418  168.304695  200.216064  193.946650  112.161463   \n",
       "\n",
       "             6           7           8           9    ...         490  \\\n",
       "0       1.000000    1.000000    1.000000    1.000000  ...    1.000000   \n",
       "1       1.008146    1.007650    0.993726    1.007882  ...    1.005076   \n",
       "2       1.000796    1.001833    0.987619    1.008830  ...    1.006136   \n",
       "3       1.003026    1.004349    0.981388    1.002083  ...    1.009364   \n",
       "4       1.000952    1.007298    0.978814    0.994319  ...    1.016977   \n",
       "...          ...         ...         ...         ...  ...         ...   \n",
       "7556  228.809399  123.549359  148.670547  268.043174  ...  162.482395   \n",
       "7557  229.805610  124.029303  148.183031  270.116381  ...  163.664850   \n",
       "7558  230.041059  124.157022  147.097201  270.295119  ...  164.724101   \n",
       "7559  229.311634  124.743471  147.665798  270.322280  ...  165.492295   \n",
       "7560  229.268620  125.165750  147.591421  269.176292  ...  165.039779   \n",
       "\n",
       "             491        492        493         494         495         496  \\\n",
       "0       1.000000   1.000000   1.000000    1.000000    1.000000    1.000000   \n",
       "1       0.997936   0.999774   0.996816    1.005516    1.000216    0.996310   \n",
       "2       0.997984   1.007963   0.990284    1.004777    1.006433    1.000509   \n",
       "3       1.000487   1.005071   0.991715    1.003090    1.008850    0.999795   \n",
       "4       1.002570   1.000947   0.992480    1.015654    1.006044    1.002070   \n",
       "...          ...        ...        ...         ...         ...         ...   \n",
       "7556  133.058517  92.081574  73.423510  262.139972  203.449634  110.223669   \n",
       "7557  133.149668  91.966253  73.733485  261.641260  202.214198  109.864839   \n",
       "7558  133.648913  92.682747  73.796805  263.123795  202.542700  109.968071   \n",
       "7559  132.884357  92.795289  74.130802  263.168070  202.829837  110.887375   \n",
       "7560  132.458201  92.515496  73.954902  262.890702  201.502205  110.940147   \n",
       "\n",
       "             497         498         499  \n",
       "0       1.000000    1.000000    1.000000  \n",
       "1       0.999220    1.002581    0.997321  \n",
       "2       0.999316    1.005746    0.999154  \n",
       "3       1.010427    1.005135    1.005661  \n",
       "4       1.017087    1.011232    0.999097  \n",
       "...          ...         ...         ...  \n",
       "7556  150.951500  167.362738  236.875803  \n",
       "7557  150.738968  167.329148  237.914759  \n",
       "7558  150.186772  166.674483  239.305613  \n",
       "7559  150.500004  167.090560  240.011029  \n",
       "7560  149.768835  166.799661  239.560513  \n",
       "\n",
       "[7561 rows x 500 columns]"
      ]
     },
     "execution_count": 42,
     "metadata": {},
     "output_type": "execute_result"
    }
   ],
   "source": [
    "# Run the Monte Carlo Simulation\n",
    "\n",
    "for n in range(number_simulations):\n",
    "    \n",
    "    # YOUR CODE HERE\n",
    "    simulated_SPY_prices = [last_day_SPY]\n",
    "    simulated_AGG_prices = [last_day_AGG]\n",
    "\n",
    "    # Simulate the returns for 252 * 3 days\n",
    "    for i in range(number_records):\n",
    "    \n",
    "        # Calculate the simulated price using the last price within the list\n",
    "        simulated_SPY_price = simulated_SPY_prices[-1] * (1 + np.random.normal(avg_daily_return_SPY, std_dev_daily_return_SPY))\n",
    "        simulated_AGG_price = simulated_AGG_prices[-1] * (1 + np.random.normal(avg_daily_return_AGG, std_dev_daily_return_AGG))\n",
    "        \n",
    "        # Append the simulated price to the list\n",
    "        simulated_SPY_prices.append(simulated_SPY_price)\n",
    "        simulated_AGG_prices.append(simulated_AGG_price)\n",
    "    \n",
    "    # Append a simulated prices of each simulation to DataFrame\n",
    "    simulated_price_df[\"SPY prices\"] = pd.Series(simulated_SPY_prices)\n",
    "    simulated_price_df[\"AGG prices\"] = pd.Series(simulated_AGG_prices)\n",
    "    \n",
    "    # Calculate the daily returns of simulated prices\n",
    "    simulated_daily_returns = simulated_price_df.pct_change()\n",
    "    \n",
    "    # Set the portfolio weights (60% SPY; 40% AGG)\n",
    "    weights = [0.60, 0.40]\n",
    "\n",
    "    # Use the `dot` function with the weights to multiply weights with each column's simulated daily returns\n",
    "    portfolio_daily_returns = simulated_daily_returns.dot(weights)\n",
    "    \n",
    "    # Calculate the normalized, cumulative return series\n",
    "    portfolio_cumulative_returns[n] = (1 + portfolio_daily_returns.fillna(0)).cumprod()\n",
    "\n",
    "# Print records from the DataFrame\n",
    "portfolio_cumulative_returns"
   ]
  },
  {
   "cell_type": "code",
   "execution_count": 55,
   "metadata": {},
   "outputs": [
    {
     "data": {
      "text/plain": [
       "<matplotlib.axes._subplots.AxesSubplot at 0x22795e9fc88>"
      ]
     },
     "execution_count": 55,
     "metadata": {},
     "output_type": "execute_result"
    },
    {
     "data": {
      "image/png": "[encoded data removed]",
      "text/plain": [
       "<Figure size 432x288 with 1 Axes>"
      ]
     },
     "metadata": {
      "needs_background": "light"
     },
     "output_type": "display_data"
    }
   ],
   "source": [
    "# Visualize the Simulation\n",
    "# YOUR CODE HERE\n",
    "plot_title = f\"{n+1} Simulations of Cumulative Portfolio Return Trajectories Over the Next 252 Trading Days\"\n",
    "portfolio_cumulative_returns.plot(legend=None, title=plot_title)"
   ]
  },
  {
   "cell_type": "code",
   "execution_count": 56,
   "metadata": {},
   "outputs": [
    {
     "data": {
      "text/plain": [
       "0    169.358259\n",
       "1    192.919418\n",
       "2    168.304695\n",
       "3    200.216064\n",
       "4    193.946650\n",
       "Name: 7560, dtype: float64"
      ]
     },
     "execution_count": 56,
     "metadata": {},
     "output_type": "execute_result"
    }
   ],
   "source": [
    "# Select the last row for the cumulative returns (cumulative returns at 30 years)\n",
    "# YOUR CODE HERE\n",
    "ending_cumulative_returns_30yr = portfolio_cumulative_returns.iloc[-1, :]\n",
    "ending_cumulative_returns_30yr.head()"
   ]
  },
  {
   "cell_type": "code",
   "execution_count": 57,
   "metadata": {},
   "outputs": [
    {
     "data": {
      "text/plain": [
       "0    33.747790\n",
       "1    25.895325\n",
       "2    28.648973\n",
       "3    31.919018\n",
       "4    25.503500\n",
       "Name: 5041, dtype: float64"
      ]
     },
     "execution_count": 57,
     "metadata": {},
     "output_type": "execute_result"
    }
   ],
   "source": [
    "# Select the last row for the cumulative returns (cumulative returns at 20 years)\n",
    "# YOUR CODE HERE\n",
    "ending_cumulative_returns_20yr = portfolio_cumulative_returns.iloc[-(252*10), :]\n",
    "ending_cumulative_returns_20yr.head()"
   ]
  },
  {
   "cell_type": "code",
   "execution_count": 58,
   "metadata": {},
   "outputs": [
    {
     "data": {
      "text/plain": [
       "0.1     92.78248\n",
       "0.9    236.34731\n",
       "Name: 7560, dtype: float64"
      ]
     },
     "execution_count": 58,
     "metadata": {},
     "output_type": "execute_result"
    }
   ],
   "source": [
    "# Display the 90% confidence interval for the ending returns\n",
    "# YOUR CODE HERE\n",
    "# Use the `quantile` function to calculate the 90% confidence interval\n",
    "confidence_interval = ending_cumulative_returns_30yr.quantile(q=[0.1, 0.9])\n",
    "confidence_interval"
   ]
  },
  {
   "cell_type": "code",
   "execution_count": 59,
   "metadata": {},
   "outputs": [
    {
     "data": {
      "text/plain": [
       "<matplotlib.lines.Line2D at 0x2279637be48>"
      ]
     },
     "execution_count": 59,
     "metadata": {},
     "output_type": "execute_result"
    },
    {
     "data": {
      "image/png": "[encoded data removed]",
      "text/plain": [
       "<Figure size 432x288 with 1 Axes>"
      ]
     },
     "metadata": {
      "needs_background": "light"
     },
     "output_type": "display_data"
    }
   ],
   "source": [
    "# Visualize the distribution of the ending returns\n",
    "# YOUR CODE HERE\n",
    "# with markings for a 90% confidence interval\n",
    "plt.figure();\n",
    "ending_cumulative_returns_30yr.plot(kind='hist', density=True, bins=10)\n",
    "plt.axvline(confidence_interval.iloc[0], color='r')\n",
    "plt.axvline(confidence_interval.iloc[1], color='r')"
   ]
  },
  {
   "cell_type": "code",
   "execution_count": null,
   "metadata": {},
   "outputs": [],
   "source": []
  },
  {
   "cell_type": "markdown",
   "metadata": {},
   "source": [
    "---"
   ]
  },
  {
   "cell_type": "markdown",
   "metadata": {},
   "source": [
    "# Retirement Analysis\n",
    "\n",
    "In this section, you will use the monte carlo model to answer the following retirement planning questions:\n",
    "\n",
    "1. What are the expected cumulative returns at 30 years for the 10th, 50th, and 90th percentiles?\n",
    "2. Given an initial investment of `$20,000`, what is the expected portfolio return in dollars at the 10th, 50th, and 90th percentiles?\n",
    "3. Given the current projected annual income from the Plaid analysis, will a 4% withdraw rate from the retirement portfolio meet or exceed that value at the 10th percentile?\n",
    "4. How would a 50% increase in the initial investment amount affect the 4% retirement withdrawal?"
   ]
  },
  {
   "cell_type": "markdown",
   "metadata": {},
   "source": [
    "### What are the expected cumulative returns at 30 years for the 10th, 50th, and 90th percentiles?"
   ]
  },
  {
   "cell_type": "code",
   "execution_count": 67,
   "metadata": {},
   "outputs": [
    {
     "name": "stdout",
     "output_type": "stream",
     "text": [
      "The expected cumulative returns at the 10th percentile is 18.767125289504552, at the 20th percentile is 28.320731523662637, and at the 90th percentile is 42.947508668808986\n"
     ]
    }
   ],
   "source": [
    "# YOUR CODE HERE\n",
    "confidence_interval2 = ending_cumulative_returns.quantile(q=[0.1, 0.5, 0.9])\n",
    "\n",
    "cumulative_return_10 = confidence_interval2.iloc[0]\n",
    "cumulative_return_50 = confidence_interval2.iloc[1]\n",
    "cumulative_return_90 = confidence_interval2.iloc[2]\n",
    "\n",
    "\n",
    "print(f\"The expected cumulative returns at the 10th percentile is {cumulative_return_10}, at the 20th percentile is {cumulative_return_50},\"      \n",
    "      f\" and at the 90th percentile is {cumulative_return_90}\")\n"
   ]
  },
  {
   "cell_type": "markdown",
   "metadata": {},
   "source": [
    "### Given an initial investment of `$20,000`, what is the expected portfolio return in dollars at the 10th, 50th, and 90th percentiles?"
   ]
  },
  {
   "cell_type": "code",
   "execution_count": 69,
   "metadata": {},
   "outputs": [
    {
     "name": "stdout",
     "output_type": "stream",
     "text": [
      "Given a $20000 investment, the expected portfolio return at the 10th percentile is $375342, at the 20th percentile is $566414, and at the 90th percentile is $858950\n"
     ]
    }
   ],
   "source": [
    "# YOUR CODE HERE\n",
    "initial_investment = 20000\n",
    "\n",
    "investment_pnl_10 = int(initial_investment * confidence_interval2.iloc[0])\n",
    "investment_pnl_50 = int(initial_investment * confidence_interval2.iloc[1])\n",
    "investment_pnl_90 = int(initial_investment * confidence_interval2.iloc[2])\n",
    "\n",
    "\n",
    "print(f\"Given a $20000 investment, the expected portfolio return at the 10th percentile is ${investment_pnl_10}, at the 20th percentile is ${investment_pnl_50},\"      \n",
    "      f\" and at the 90th percentile is ${investment_pnl_90}\")"
   ]
  },
  {
   "cell_type": "markdown",
   "metadata": {},
   "source": [
    "### Given the current projected annual income from the Plaid analysis, will a 4% withdraw rate from the retirement portfolio meet or exceed that value at the 10th percentile?\n",
    "\n",
    "Note: This is effectively saying that 90% of the expected returns will be greater than the return at the 10th percentile, so this can help measure the uncertainty about having enough funds at retirement"
   ]
  },
  {
   "cell_type": "code",
   "execution_count": null,
   "metadata": {},
   "outputs": [],
   "source": [
    "# YOUR CODE HERE\n",
    "\n"
   ]
  },
  {
   "cell_type": "markdown",
   "metadata": {},
   "source": [
    "### How would a 50% increase in the initial investment amount affect the 4% retirement withdrawal?"
   ]
  },
  {
   "cell_type": "code",
   "execution_count": null,
   "metadata": {},
   "outputs": [],
   "source": [
    "# YOUR CODE HERE"
   ]
  },
  {
   "cell_type": "markdown",
   "metadata": {},
   "source": [
    "### Optional Challenge\n",
    "\n",
    "In this section, you will calculate and plot the cumulative returns for the median and 90% confidence intervals. This plot shows the expected cumulative returns for any given day between the first day and the last day of investment. "
   ]
  },
  {
   "cell_type": "code",
   "execution_count": null,
   "metadata": {},
   "outputs": [],
   "source": [
    "# YOUR CODE HERE"
   ]
  }
 ],
 "metadata": {
  "kernel_info": {
   "name": "dev"
  },
  "kernelspec": {
   "display_name": "Python 3",
   "language": "python",
   "name": "python3"
  },
  "language_info": {
   "codemirror_mode": {
    "name": "ipython",
    "version": 3
   },
   "file_extension": ".py",
   "mimetype": "text/x-python",
   "name": "python",
   "nbconvert_exporter": "python",
   "pygments_lexer": "ipython3",
   "version": "3.7.4"
  },
  "nteract": {
   "version": "0.12.3"
  }
 },
 "nbformat": 4,
 "nbformat_minor": 4
}
